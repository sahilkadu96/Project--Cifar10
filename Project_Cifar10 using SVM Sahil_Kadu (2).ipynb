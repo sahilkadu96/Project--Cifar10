{
 "cells": [
  {
   "cell_type": "code",
   "execution_count": 1,
   "metadata": {
    "id": "fzkH40_rRMfZ"
   },
   "outputs": [],
   "source": [
    "#done in google colab as I was unable to do it in jupyter\n",
    "\n",
    "import numpy as np\n",
    "import pickle\n",
    "import os\n",
    "import download\n",
    "from dataset import one_hot_encoded\n",
    "import cifar10\n"
   ]
  },
  {
   "cell_type": "code",
   "execution_count": 2,
   "metadata": {
    "colab": {
     "base_uri": "https://localhost:8080/"
    },
    "id": "qzmZtHtTRxNh",
    "outputId": "766fa5e3-a18e-4d3b-949c-6a14ef3bf9c4"
   },
   "outputs": [
    {
     "name": "stdout",
     "output_type": "stream",
     "text": [
      "[Errno 2] No such file or directory: '/content/drive/MyDrive/Colab Notebooks'\n",
      "/content\n"
     ]
    }
   ],
   "source": [
    "%cd '/content/drive/MyDrive/Colab Notebooks'"
   ]
  },
  {
   "cell_type": "code",
   "execution_count": 3,
   "metadata": {
    "id": "vFVSqoN5R3sx"
   },
   "outputs": [],
   "source": [
    "cifar10.data_path = \"data/CIFAR-10/Desktop\""
   ]
  },
  {
   "cell_type": "code",
   "execution_count": 4,
   "metadata": {
    "colab": {
     "base_uri": "https://localhost:8080/"
    },
    "id": "JCg6yZepR8lv",
    "outputId": "e0c7241e-b8c1-44a6-c91d-f41b686aa565"
   },
   "outputs": [
    {
     "name": "stdout",
     "output_type": "stream",
     "text": [
      "- Download progress: 100.0%\n",
      "Download finished. Extracting files.\n",
      "Done.\n"
     ]
    }
   ],
   "source": [
    "cifar10.maybe_download_and_extract()"
   ]
  },
  {
   "cell_type": "code",
   "execution_count": 5,
   "metadata": {
    "colab": {
     "base_uri": "https://localhost:8080/"
    },
    "id": "T4tv-NarShoA",
    "outputId": "88121d20-e3a9-4407-e830-893799724ff3"
   },
   "outputs": [
    {
     "name": "stdout",
     "output_type": "stream",
     "text": [
      "Loading data: data/CIFAR-10/Desktop/cifar-10-batches-py/batches.meta\n"
     ]
    },
    {
     "data": {
      "text/plain": [
       "['airplane',\n",
       " 'automobile',\n",
       " 'bird',\n",
       " 'cat',\n",
       " 'deer',\n",
       " 'dog',\n",
       " 'frog',\n",
       " 'horse',\n",
       " 'ship',\n",
       " 'truck']"
      ]
     },
     "execution_count": 5,
     "metadata": {},
     "output_type": "execute_result"
    }
   ],
   "source": [
    "class_names = cifar10.load_class_names()\n",
    "class_names"
   ]
  },
  {
   "cell_type": "code",
   "execution_count": 6,
   "metadata": {
    "colab": {
     "base_uri": "https://localhost:8080/"
    },
    "id": "qGn8cMABSqHn",
    "outputId": "2a22ba26-3de7-4e88-f5a6-339126a8229f"
   },
   "outputs": [
    {
     "name": "stdout",
     "output_type": "stream",
     "text": [
      "Loading data: data/CIFAR-10/Desktop/cifar-10-batches-py/data_batch_1\n",
      "Loading data: data/CIFAR-10/Desktop/cifar-10-batches-py/data_batch_2\n",
      "Loading data: data/CIFAR-10/Desktop/cifar-10-batches-py/data_batch_3\n",
      "Loading data: data/CIFAR-10/Desktop/cifar-10-batches-py/data_batch_4\n",
      "Loading data: data/CIFAR-10/Desktop/cifar-10-batches-py/data_batch_5\n",
      "Loading data: data/CIFAR-10/Desktop/cifar-10-batches-py/test_batch\n"
     ]
    }
   ],
   "source": [
    "images_train, cls_train, labels_train = cifar10.load_training_data()\n",
    "images_test, cls_test, labels_test = cifar10.load_test_data()"
   ]
  },
  {
   "cell_type": "code",
   "execution_count": 7,
   "metadata": {
    "id": "dKpErQeFS_Gg"
   },
   "outputs": [],
   "source": [
    "from sklearn.decomposition import PCA\n",
    "from sklearn.svm import SVC"
   ]
  },
  {
   "cell_type": "code",
   "execution_count": 8,
   "metadata": {
    "colab": {
     "base_uri": "https://localhost:8080/"
    },
    "id": "PbVsVAHPTNdX",
    "outputId": "e99fcf07-841f-4b43-e318-7ba2c4578481"
   },
   "outputs": [
    {
     "data": {
      "text/plain": [
       "(50000, 32, 32, 3)"
      ]
     },
     "execution_count": 8,
     "metadata": {},
     "output_type": "execute_result"
    }
   ],
   "source": [
    "Xtrain = images_train\n",
    "Xtrain.shape"
   ]
  },
  {
   "cell_type": "code",
   "execution_count": 9,
   "metadata": {
    "colab": {
     "base_uri": "https://localhost:8080/"
    },
    "id": "uD1qiNj1TVeA",
    "outputId": "38353a8f-7e82-4b72-c474-d67844cd31de"
   },
   "outputs": [
    {
     "data": {
      "text/plain": [
       "(50000,)"
      ]
     },
     "execution_count": 9,
     "metadata": {},
     "output_type": "execute_result"
    }
   ],
   "source": [
    "Ytrain = cls_train\n",
    "Ytrain.shape"
   ]
  },
  {
   "cell_type": "code",
   "execution_count": 14,
   "metadata": {
    "colab": {
     "base_uri": "https://localhost:8080/"
    },
    "id": "C-r5ZlARTb2X",
    "outputId": "0cae24e6-2698-4a04-acc6-2fc44d9cd96a"
   },
   "outputs": [
    {
     "data": {
      "text/plain": [
       "(50000, 3072)"
      ]
     },
     "execution_count": 14,
     "metadata": {},
     "output_type": "execute_result"
    }
   ],
   "source": [
    "#we will reshape Xtrain 32*32*3 = 3072\n",
    "Xtrain = Xtrain.reshape(50000, 3072)\n",
    "Xtrain.shape"
   ]
  },
  {
   "cell_type": "code",
   "execution_count": 11,
   "metadata": {
    "id": "_7LqMAGKTsnf"
   },
   "outputs": [],
   "source": [
    "Xtest = images_test.reshape(10000, 3072)\n",
    "Ytest = cls_test\n"
   ]
  },
  {
   "cell_type": "code",
   "execution_count": 15,
   "metadata": {
    "colab": {
     "base_uri": "https://localhost:8080/"
    },
    "id": "YfuuhZFtT825",
    "outputId": "c3b716da-97cb-4d60-a979-8fdeeb5297f0"
   },
   "outputs": [
    {
     "data": {
      "text/plain": [
       "PCA()"
      ]
     },
     "execution_count": 15,
     "metadata": {},
     "output_type": "execute_result"
    }
   ],
   "source": [
    "#applying pca\n",
    "pca = PCA()\n",
    "pca.fit(Xtrain)"
   ]
  },
  {
   "cell_type": "code",
   "execution_count": 16,
   "metadata": {
    "colab": {
     "base_uri": "https://localhost:8080/"
    },
    "id": "WZQUg4GSU32F",
    "outputId": "a7411b8f-d839-4f47-9fd5-677c2d07cb44"
   },
   "outputs": [
    {
     "data": {
      "text/plain": [
       "217"
      ]
     },
     "execution_count": 16,
     "metadata": {},
     "output_type": "execute_result"
    }
   ],
   "source": [
    "#finding optimal number of components\n",
    "k = 0\n",
    "totalSum = sum(pca.explained_variance_)\n",
    "currentSum = 0\n",
    "\n",
    "while currentSum/totalSum < 0.95:\n",
    "    currentSum += pca.explained_variance_[k]\n",
    "    k+= 1\n",
    "k"
   ]
  },
  {
   "cell_type": "code",
   "execution_count": 18,
   "metadata": {
    "id": "Uhy2vXJXVhQL"
   },
   "outputs": [],
   "source": [
    "#optimising pca with n_components as k\n",
    "pca_2 = PCA(n_components = k, whiten = True)\n",
    "Xtrain_pca = pca_2.fit_transform(Xtrain)\n",
    "Xtest_pca = pca_2.transform(Xtest)"
   ]
  },
  {
   "cell_type": "code",
   "execution_count": 19,
   "metadata": {
    "colab": {
     "base_uri": "https://localhost:8080/"
    },
    "id": "lwJv8vFbWjhy",
    "outputId": "895b2f0c-4c02-4054-bd2e-3d2b4d4f1886"
   },
   "outputs": [
    {
     "data": {
      "text/plain": [
       "SVC()"
      ]
     },
     "execution_count": 19,
     "metadata": {},
     "output_type": "execute_result"
    }
   ],
   "source": [
    "#we will apply support vector classifier\n",
    "clf = SVC()\n",
    "clf.fit(Xtrain_pca, Ytrain)"
   ]
  },
  {
   "cell_type": "code",
   "execution_count": 20,
   "metadata": {
    "id": "fzOh82hsZfqL"
   },
   "outputs": [],
   "source": [
    "#we wil predict Y\n",
    "Ypred = clf.predict(Xtest_pca)\n"
   ]
  },
  {
   "cell_type": "code",
   "execution_count": 21,
   "metadata": {
    "id": "iSaloq--aR7J"
   },
   "outputs": [],
   "source": [
    "# we will convert Ypred into class names since we want output in class names\n",
    "class_name_pred = []\n",
    "for i in Ypred:\n",
    "      class_name_pred.append(class_names[i])\n",
    "\n",
    "class_name_pred = np.array(class_name_pred)"
   ]
  },
  {
   "cell_type": "code",
   "execution_count": 22,
   "metadata": {
    "id": "m8h7233-a3px"
   },
   "outputs": [],
   "source": [
    "#we will save it in csv file\n",
    "np.savetxt('Cifar_pred.csv', class_name_pred, fmt = '%s', delimiter = ',', encoding = None)"
   ]
  },
  {
   "cell_type": "code",
   "execution_count": 23,
   "metadata": {
    "colab": {
     "base_uri": "https://localhost:8080/"
    },
    "id": "QudIBLsfbLaf",
    "outputId": "b2821d83-dc73-4735-fcdf-01498da14dc4"
   },
   "outputs": [
    {
     "data": {
      "text/plain": [
       "0.555"
      ]
     },
     "execution_count": 23,
     "metadata": {},
     "output_type": "execute_result"
    }
   ],
   "source": [
    "#calculating score\n",
    "clf.score(Xtest_pca, Ytest)"
   ]
  }
 ],
 "metadata": {
  "colab": {
   "collapsed_sections": [],
   "name": "Project Cifar10 - Sahil Kadu.ipynb",
   "provenance": []
  },
  "kernelspec": {
   "display_name": "Python 3 (ipykernel)",
   "language": "python",
   "name": "python3"
  },
  "language_info": {
   "codemirror_mode": {
    "name": "ipython",
    "version": 3
   },
   "file_extension": ".py",
   "mimetype": "text/x-python",
   "name": "python",
   "nbconvert_exporter": "python",
   "pygments_lexer": "ipython3",
   "version": "3.9.7"
  }
 },
 "nbformat": 4,
 "nbformat_minor": 1
}
